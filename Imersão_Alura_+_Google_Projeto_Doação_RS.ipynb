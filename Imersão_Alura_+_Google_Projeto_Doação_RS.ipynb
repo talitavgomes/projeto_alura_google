{
  "nbformat": 4,
  "nbformat_minor": 0,
  "metadata": {
    "colab": {
      "provenance": [],
      "authorship_tag": "ABX9TyPRTZmXxblE1ZVLfb1C59za",
      "include_colab_link": true
    },
    "kernelspec": {
      "name": "python3",
      "display_name": "Python 3"
    },
    "language_info": {
      "name": "python"
    }
  },
  "cells": [
    {
      "cell_type": "markdown",
      "metadata": {
        "id": "view-in-github",
        "colab_type": "text"
      },
      "source": [
        "<a href=\"https://colab.research.google.com/github/talitavgomes/projeto_alura_google/blob/main/Imers%C3%A3o_Alura_%2B_Google_Projeto_Doa%C3%A7%C3%A3o_RS.ipynb\" target=\"_parent\"><img src=\"https://colab.research.google.com/assets/colab-badge.svg\" alt=\"Open In Colab\"/></a>"
      ]
    },
    {
      "cell_type": "code",
      "execution_count": null,
      "metadata": {
        "id": "EsdvteeHp8er"
      },
      "outputs": [],
      "source": []
    },
    {
      "cell_type": "code",
      "execution_count": 1,
      "metadata": {
        "id": "b5PpfxCutmcu"
      },
      "outputs": [],
      "source": [
        "!pip install -U -q google.generativeai"
      ]
    },
    {
      "cell_type": "code",
      "source": [
        "# Import the Python SDK\n",
        "import google.generativeai as genai\n",
        "import os\n",
        "\n",
        "from google.colab import userdata\n",
        "API_KEY = userdata.get('Secret_Key')\n",
        "\n",
        "genai.configure(api_key=API_KEY)"
      ],
      "metadata": {
        "id": "IUl39F55rV0G"
      },
      "execution_count": 4,
      "outputs": []
    },
    {
      "cell_type": "code",
      "source": [
        "generatin_config = {\n",
        "    \"candidate_count\": 1,\n",
        "    \"temperature\": 0.5,\n",
        "\n",
        "}\n",
        "\n",
        "safety_settings = {\n",
        "    \"HARASSMENT\": \"BLOCK_NONE\",\n",
        "    \"HATE\": \"BLOCK_NONE\",\n",
        "    \"SEXUAL\": \"BLOCK_NONE\",\n",
        "    \"DANGEROUS\": \"BLOCK_NONE\",\n",
        "}\n",
        "\n",
        "model = genai.GenerativeModel(model_name=\"gemini-1.0-pro\",\n",
        "                              generation_config=generatin_config,\n",
        "                              safety_settings=safety_settings)"
      ],
      "metadata": {
        "id": "SOY-ID8yrkUR"
      },
      "execution_count": 3,
      "outputs": []
    },
    {
      "cell_type": "code",
      "source": [
        "# Lista de sugestões de doação (pré-definidas)\n",
        "sugestoes_doacao = [\n",
        "    \"Plataforma SOS Rio Grande do Sul: Uma iniciativa do Governo do Estado para arrecadar fundos e auxiliar as famílias atingidas. \"\n",
        "    \"\\n Você pode doar através do site: https://sosenchentes.rs.gov.br/ ou por PIX na chave: CNPJ 92.958.800/0001-38. \\n\",\n",
        "    \"GRAD - Grupo de Resgate de Animais em Desastres:\"\n",
        "    \"\\n Você pode doar através do site ou por PIX na chave: doe@gradbrasil.org.br \\n\",\n",
        "    \"Associação Carlos Dorneles:\"\n",
        "    \"\\n A Associação está recebendo doações em dinheiro via PIX: 04.674.671/0001-99 (CNPJ da Associação) \\n\",\n",
        "    \"A Central Única das Favelas (CUFA)\"\n",
        "    \"\\n Contribua via PIX: doacoes@cufa.org.br \\n\",\n",
        "    \"Divulgue informações sobre como ajudar e incentive outras pessoas a contribuírem, pelas redes sociais.\"\n",
        "]\n"
      ],
      "metadata": {
        "id": "GGKicx1Cru-D"
      },
      "execution_count": 20,
      "outputs": []
    },
    {
      "cell_type": "code",
      "source": [
        "def main():\n",
        "    resposta_usuario = input(\"Você gostaria de ajudar nas enchentes do Rio Grande do Sul? (Sim/Não): \")\n",
        "\n",
        "    if resposta_usuario.lower() == \"sim\":\n",
        "        print(\"\\n Que bom! Aqui estão 5 maneiras de doar para as enchentes do Rio Grande do Sul: \\n\")\n",
        "        for i, sugestao in enumerate(sugestoes_doacao):\n",
        "            print(f\"{i+1}. {sugestao}\")\n",
        "\n",
        "    elif resposta_usuario.lower() == \"não\":\n",
        "        print(\"Que pena! Sua contribuição com certeza ajudaria nossos amigos afetados por essa tragédia, inclusive os animais!\")\n",
        "\n",
        "    else:\n",
        "        print(\"Resposta inválida. Por favor, responda com 'Sim' ou 'Não'.\")\n",
        "\n",
        "\n",
        "if __name__ == \"__main__\":\n",
        "    main()"
      ],
      "metadata": {
        "id": "JLDyuoyxr70z"
      },
      "execution_count": null,
      "outputs": []
    }
  ]
}